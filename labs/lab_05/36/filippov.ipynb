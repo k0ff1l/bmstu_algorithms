{
 "cells": [
  {
   "metadata": {},
   "cell_type": "markdown",
   "source": [
    "# Лабараторная работа 4.\n",
    "## Вариант 16\n",
    "### Филиппов Константин"
   ],
   "id": "36a03146d865b2d0"
  },
  {
   "cell_type": "code",
   "id": "initial_id",
   "metadata": {
    "collapsed": true,
    "ExecuteTime": {
     "end_time": "2024-11-06T08:37:04.148851Z",
     "start_time": "2024-11-06T08:37:04.144940Z"
    }
   },
   "source": [
    "from typing import Any, Self\n",
    "\n",
    "import doctest"
   ],
   "outputs": [],
   "execution_count": 101
  },
  {
   "metadata": {},
   "cell_type": "markdown",
   "source": "# Реализация хеш-таблицы с использованием цепочек",
   "id": "ee9dbbfc9f55e3db"
  },
  {
   "metadata": {
    "ExecuteTime": {
     "end_time": "2024-11-06T08:37:04.167394Z",
     "start_time": "2024-11-06T08:37:04.157724Z"
    }
   },
   "cell_type": "code",
   "source": [
    "class HashTable1:\n",
    "    \"\"\"\n",
    "    >>> hash_table = HashTable1(10)\n",
    "    >>> hash_table.insert('apple', 1)\n",
    "    >>> hash_table.insert('banana', 2)\n",
    "    >>> hash_table.insert('cherry', 3)\n",
    "    >>> hash_table.search('apple')\n",
    "    1\n",
    "    >>> hash_table.search('banana')\n",
    "    2\n",
    "    >>> hash_table.search('cherry')\n",
    "    3\n",
    "    >>> hash_table.search('orange')\n",
    "    >>> hash_table.search('grape')\n",
    "    >>> hash_table.delete('apple')\n",
    "    >>> hash_table.search('apple')\n",
    "    \"\"\"\n",
    "    def __init__(self, size):\n",
    "        self.size = size\n",
    "        self.table = [None] * size\n",
    "\n",
    "    def hash_function(self, key):\n",
    "        return hash(key) % self.size\n",
    "\n",
    "    def insert(self, key, value):\n",
    "        index = self.hash_function(key)\n",
    "        if self.table[index] is None:\n",
    "            self.table[index] = [(key, value)]\n",
    "        else:\n",
    "            for i, kv in enumerate(self.table[index]):\n",
    "                k, v = kv\n",
    "                if k == key:\n",
    "                    self.table[index][i] = (key, value)\n",
    "                    return\n",
    "            self.table[index].append((key, value))\n",
    "            \n",
    "    def search(self, key):\n",
    "        index = self.hash_function(key)\n",
    "        if self.table[index] is None:\n",
    "            return None\n",
    "        for k, v in self.table[index]:\n",
    "            if k == key:\n",
    "                return v\n",
    "        return None\n",
    "    \n",
    "    def delete(self, key):\n",
    "        index = self.hash_function(key)\n",
    "        if self.table[index] is None:\n",
    "            return\n",
    "        for i, kv in enumerate(self.table[index]):\n",
    "            k, v = kv\n",
    "            if k == key:\n",
    "                del self.table[index][i]\n",
    "                return\n",
    "            \n",
    "            \n",
    "doctest.testmod()"
   ],
   "id": "b1a8c8287a66e4bb",
   "outputs": [
    {
     "name": "stdout",
     "output_type": "stream",
     "text": [
      "**********************************************************************\n",
      "File \"__main__\", line 69, in __main__.are_anagrams\n",
      "Failed example:\n",
      "    are_anagrams(\"hello\", \"world\")\n",
      "Exception raised:\n",
      "    Traceback (most recent call last):\n",
      "      File \"/opt/homebrew/Cellar/python@3.12/3.12.3/Frameworks/Python.framework/Versions/3.12/lib/python3.12/doctest.py\", line 1361, in __run\n",
      "        exec(compile(example.source, filename, \"single\",\n",
      "      File \"<doctest __main__.are_anagrams[1]>\", line 1, in <module>\n",
      "        are_anagrams(\"hello\", \"world\")\n",
      "      File \"/var/folders/74/3fd48dl97l5b38c37fxw80rh0000gn/T/ipykernel_15983/3013808488.py\", line 87, in are_anagrams\n",
      "        if map2[key] != value:\n",
      "           ~~~~^^^^^\n",
      "    KeyError: 'h'\n",
      "**********************************************************************\n",
      "1 items had failures:\n",
      "   1 of   2 in __main__.are_anagrams\n",
      "***Test Failed*** 1 failures.\n"
     ]
    },
    {
     "data": {
      "text/plain": [
       "TestResults(failed=1, attempted=31)"
      ]
     },
     "execution_count": 102,
     "metadata": {},
     "output_type": "execute_result"
    }
   ],
   "execution_count": 102
  },
  {
   "metadata": {},
   "cell_type": "markdown",
   "source": "# Реализация хеш-таблицы с использованием открытой адресации",
   "id": "d9d3a99a8cdd8949"
  },
  {
   "metadata": {
    "ExecuteTime": {
     "end_time": "2024-11-06T08:37:04.176134Z",
     "start_time": "2024-11-06T08:37:04.168383Z"
    }
   },
   "cell_type": "code",
   "source": [
    "class HashTable2:\n",
    "    \"\"\"\n",
    "    >>> hash_table = HashTable2(10)\n",
    "    >>> hash_table.insert('apple', 1)\n",
    "    >>> hash_table.insert('banana', 2)\n",
    "    >>> hash_table.insert('cherry', 3)\n",
    "    >>> hash_table.search('apple')\n",
    "    1\n",
    "    >>> hash_table.search('banana')\n",
    "    2\n",
    "    >>> hash_table.search('cherry')\n",
    "    3\n",
    "    >>> hash_table.search('orange')\n",
    "    >>> hash_table.search('grape')\n",
    "    >>> hash_table.delete('apple')\n",
    "    >>> hash_table.search('apple')\n",
    "    \"\"\"\n",
    "    \n",
    "    def __init__(self, size):\n",
    "        self.size = size\n",
    "        self.table = [None] * size\n",
    "\n",
    "    def hash_function(self, key):\n",
    "        return hash(key) % self.size\n",
    "\n",
    "    def insert(self, key, value):\n",
    "        index = self.hash_function(key)\n",
    "        original_index = index\n",
    "        while self.table[index] is not None: # если занято место\n",
    "            if self.table[index][0] == key:\n",
    "                self.table[index] = (key, value)\n",
    "                return\n",
    "            index = (index + 1) % self.size\n",
    "            if index == original_index:\n",
    "                raise Exception(\"Хеш-таблица полна\")\n",
    "        self.table[index] = (key, value)\n",
    "\n",
    "    def search(self, key):\n",
    "        index = self.hash_function(key)\n",
    "        original_index = index\n",
    "        while self.table[index] is not None:\n",
    "            if self.table[index][0] == key:\n",
    "                return self.table[index][1]\n",
    "            index = (index + 1) % self.size\n",
    "            if index == original_index:\n",
    "                break\n",
    "        return None\n",
    "    \n",
    "    def delete(self, key):\n",
    "        index = self.hash_function(key)\n",
    "        original_index = index\n",
    "        while self.table[index] is not None:\n",
    "            if self.table[index][0] == key:\n",
    "                self.table[index] = None\n",
    "                return\n",
    "            index = (index + 1) % self.size\n",
    "            if index == original_index:\n",
    "                break\n",
    "                \n",
    "doctest.testmod()"
   ],
   "id": "ee58d43599bb428f",
   "outputs": [
    {
     "name": "stdout",
     "output_type": "stream",
     "text": [
      "**********************************************************************\n",
      "File \"__main__\", line 69, in __main__.are_anagrams\n",
      "Failed example:\n",
      "    are_anagrams(\"hello\", \"world\")\n",
      "Exception raised:\n",
      "    Traceback (most recent call last):\n",
      "      File \"/opt/homebrew/Cellar/python@3.12/3.12.3/Frameworks/Python.framework/Versions/3.12/lib/python3.12/doctest.py\", line 1361, in __run\n",
      "        exec(compile(example.source, filename, \"single\",\n",
      "      File \"<doctest __main__.are_anagrams[1]>\", line 1, in <module>\n",
      "        are_anagrams(\"hello\", \"world\")\n",
      "      File \"/var/folders/74/3fd48dl97l5b38c37fxw80rh0000gn/T/ipykernel_15983/3013808488.py\", line 87, in are_anagrams\n",
      "        if map2[key] != value:\n",
      "           ~~~~^^^^^\n",
      "    KeyError: 'h'\n",
      "**********************************************************************\n",
      "1 items had failures:\n",
      "   1 of   2 in __main__.are_anagrams\n",
      "***Test Failed*** 1 failures.\n"
     ]
    },
    {
     "data": {
      "text/plain": [
       "TestResults(failed=1, attempted=31)"
      ]
     },
     "execution_count": 103,
     "metadata": {},
     "output_type": "execute_result"
    }
   ],
   "execution_count": 103
  },
  {
   "metadata": {},
   "cell_type": "markdown",
   "source": "# Блокчейн",
   "id": "3babaf98b32b156a"
  },
  {
   "metadata": {
    "ExecuteTime": {
     "end_time": "2024-11-06T08:37:04.180628Z",
     "start_time": "2024-11-06T08:37:04.177099Z"
    }
   },
   "cell_type": "code",
   "source": [
    "import hashlib\n",
    "import time\n",
    "\n",
    "class Block:\n",
    "    def __init__(self, index, previous_hash, timestamp, data, hash):\n",
    "        self.index = index\n",
    "        self.previous_hash = previous_hash\n",
    "        self.timestamp = timestamp\n",
    "        self.data = data\n",
    "        self.hash = hash\n",
    "\n",
    "class Blockchain:\n",
    "    def __init__(self):\n",
    "        self.chain = []\n",
    "        self.create_block(previous_hash='0', data=\"нулевой блок данных\")\n",
    "        \n",
    "    def create_block(self, data, previous_hash=None):\n",
    "        index = len(self.chain) + 1\n",
    "        timestamp = time.time()\n",
    "        if previous_hash is None:\n",
    "            previous_hash = self.chain[-1].hash if self.chain else '0'\n",
    "        hash = self.hash_block(index, previous_hash, timestamp, data)\n",
    "        new_block = Block(index, previous_hash, timestamp, data, hash)\n",
    "        self.chain.append(new_block)\n",
    "        return new_block\n",
    "\n",
    "    def hash_block(self, index, previous_hash, timestamp, data):\n",
    "        value = f\"{index}{previous_hash}{timestamp}{data}\".encode()\n",
    "        return hashlib.sha256(value).hexdigest()\n",
    "\n",
    "    def get_chain(self):\n",
    "        return self.chain\n",
    "\n",
    "    def display_chain(self):\n",
    "        for block in self.chain:\n",
    "            print(f\"Блок {block.index}:\")\n",
    "            print(f\"    Предыдущий хэш: {block.previous_hash}\")\n",
    "            print(f\"    Временная метка: {block.timestamp}\")\n",
    "            print(f\"    Данные: {block.data}\")\n",
    "            print(f\"    Хэш: {block.hash}\\n\")\n",
    "            \n",
    "blockchain = Blockchain()\n",
    "blockchain.create_block(data=\"первый блок данных\")\n",
    "blockchain.create_block(data=\"второй блок данных\")\n",
    "blockchain.create_block(data=\"третий блок данных\")\n",
    "\n",
    "blockchain.display_chain()"
   ],
   "id": "cad49c60632a7f5c",
   "outputs": [
    {
     "name": "stdout",
     "output_type": "stream",
     "text": [
      "Блок 1:\n",
      "    Предыдущий хэш: 0\n",
      "    Временная метка: 1730882224.179441\n",
      "    Данные: нулевой блок данных\n",
      "    Хэш: 69c3a272b4829e527fe55e24ceec031818a083aa78bc0d8951002c4d88e7bbf3\n",
      "\n",
      "Блок 2:\n",
      "    Предыдущий хэш: 69c3a272b4829e527fe55e24ceec031818a083aa78bc0d8951002c4d88e7bbf3\n",
      "    Временная метка: 1730882224.179483\n",
      "    Данные: первый блок данных\n",
      "    Хэш: 99ad998c1d6b3ac0aa4f610e02a55a5743b4dc39fc2ee5a55f853cbe740bcd20\n",
      "\n",
      "Блок 3:\n",
      "    Предыдущий хэш: 99ad998c1d6b3ac0aa4f610e02a55a5743b4dc39fc2ee5a55f853cbe740bcd20\n",
      "    Временная метка: 1730882224.179497\n",
      "    Данные: второй блок данных\n",
      "    Хэш: 7d62d93fedc5ecbfd9f9d2cabce09984fe9bce2ffb3f3aeff510649394e3f3d1\n",
      "\n",
      "Блок 4:\n",
      "    Предыдущий хэш: 7d62d93fedc5ecbfd9f9d2cabce09984fe9bce2ffb3f3aeff510649394e3f3d1\n",
      "    Временная метка: 1730882224.179509\n",
      "    Данные: третий блок данных\n",
      "    Хэш: ba7e19697597a81d066cb23a253318f60d02d1734dd3f918130c88e465770be6\n",
      "\n"
     ]
    }
   ],
   "execution_count": 104
  },
  {
   "metadata": {},
   "cell_type": "markdown",
   "source": "# Задания 4 - 7",
   "id": "d99ad0ad642a7b5c"
  },
  {
   "metadata": {
    "ExecuteTime": {
     "end_time": "2024-11-06T08:37:04.188668Z",
     "start_time": "2024-11-06T08:37:04.181625Z"
    }
   },
   "cell_type": "code",
   "source": [
    "def arrays_intersect(arr1, arr2):\n",
    "    \"\"\"\n",
    "    Проверяет, пересекаются ли два массива.\n",
    "\n",
    "    Пример:\n",
    "    >>> arrays_intersect([1, 2, 3], [4, 5, 6])\n",
    "    False\n",
    "    >>> arrays_intersect([1, 2, 3], [3, 4, 5])\n",
    "    True\n",
    "    \"\"\"\n",
    "    map1 = {}\n",
    "    map2 = {}\n",
    "    length = min(len(arr1), len(arr2))\n",
    "    for i in range(length):\n",
    "        map1[arr1[i]] = True\n",
    "        map2[arr2[i]] = True\n",
    "        if arr2[i] in map1 or arr1[i] in map2:\n",
    "            return True\n",
    "    return False\n",
    "\n",
    "def has_unique_elements(arr):\n",
    "    \"\"\"\n",
    "    Проверяет, содержатся ли в массиве только уникальные элементы.\n",
    "\n",
    "    Пример:\n",
    "    >>> has_unique_elements([1, 2, 3])\n",
    "    True\n",
    "    >>> has_unique_elements([1, 2, 2])\n",
    "    False\n",
    "    >>> has_unique_elements([1, 2, 2, 3, 4, 5]) \n",
    "    False\n",
    "    \"\"\"\n",
    "    map = {}\n",
    "    for i in range(len(arr)):\n",
    "        if arr[i] in map:\n",
    "            return False\n",
    "        else:\n",
    "            map[arr[i]] = True\n",
    "    return len(arr) == len(set(arr))\n",
    "\n",
    "def find_pairs_with_sum(arr, target_sum):\n",
    "    \"\"\"\n",
    "    Находит все пары чисел, которые в сумме дают заданное значение.\n",
    "\n",
    "    Пример:\n",
    "    >>> sorted(find_pairs_with_sum([1, 2, 3, 4, 5], 5))\n",
    "    [(1, 4), (2, 3)]\n",
    "    >>> sorted(find_pairs_with_sum([1, 1, 1, 2], 2))\n",
    "    [(1, 1)]\n",
    "    \"\"\"\n",
    "    pairs = []\n",
    "    map = {}\n",
    "    for i in range(len(arr)):\n",
    "        map[arr[i]] = target_sum - arr[i]\n",
    "        \n",
    "    for key, value in map.items():\n",
    "        if value in map and value >= key: # Избегание повторов\n",
    "            pairs.append((key, value))\n",
    "    \n",
    "    return pairs\n",
    "\n",
    "def are_anagrams(str1, str2):\n",
    "    \"\"\"\n",
    "    Определяет, являются ли две строки анаграммами.\n",
    "\n",
    "    Пример:\n",
    "    >>> are_anagrams(\"listen\", \"silent\")\n",
    "    True\n",
    "    >>> are_anagrams(\"hello\", \"world\")\n",
    "    False\n",
    "    \"\"\"\n",
    "    map1 = {}\n",
    "    map2 = {}\n",
    "    if len(str1) != len(str2):\n",
    "        return False\n",
    "    for i in range(len(str1)):\n",
    "        if str1[i] not in map1:\n",
    "            map1[str1[i]] = 1\n",
    "        else:\n",
    "            map1[str1[i]] += 1\n",
    "            \n",
    "        if str2[i] not in map2:\n",
    "            map2[str2[i]] = 1\n",
    "        else:\n",
    "            map2[str2[i]] += 1\n",
    "    for key, value in map1.items():\n",
    "        if key not in map2 or map2[key] != value:\n",
    "            return False\n",
    "        \n",
    "    return True\n",
    "        \n",
    "doctest.testmod()"
   ],
   "id": "c24fb6f5bc537539",
   "outputs": [
    {
     "data": {
      "text/plain": [
       "TestResults(failed=0, attempted=31)"
      ]
     },
     "execution_count": 105,
     "metadata": {},
     "output_type": "execute_result"
    }
   ],
   "execution_count": 105
  },
  {
   "metadata": {
    "ExecuteTime": {
     "end_time": "2024-11-06T08:37:04.190257Z",
     "start_time": "2024-11-06T08:37:04.189170Z"
    }
   },
   "cell_type": "code",
   "source": "",
   "id": "88b0a1b2fd22dc3d",
   "outputs": [],
   "execution_count": 105
  }
 ],
 "metadata": {
  "kernelspec": {
   "display_name": "Python 3",
   "language": "python",
   "name": "python3"
  },
  "language_info": {
   "codemirror_mode": {
    "name": "ipython",
    "version": 2
   },
   "file_extension": ".py",
   "mimetype": "text/x-python",
   "name": "python",
   "nbconvert_exporter": "python",
   "pygments_lexer": "ipython2",
   "version": "2.7.6"
  }
 },
 "nbformat": 4,
 "nbformat_minor": 5
}
